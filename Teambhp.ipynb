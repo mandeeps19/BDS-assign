{
  "nbformat": 4,
  "nbformat_minor": 0,
  "metadata": {
    "colab": {
      "name": "Colab's New Code Editor",
      "provenance": [],
      "collapsed_sections": []
    },
    "kernelspec": {
      "display_name": "Python 3",
      "name": "python3"
    }
  },
  "cells": [
    {
      "cell_type": "code",
      "metadata": {
        "id": "RQ_e5rOFwinx",
        "colab_type": "code",
        "colab": {}
      },
      "source": [
        "import requests \n",
        "from lxml import html \n",
        "  "
      ],
      "execution_count": 0,
      "outputs": []
    },
    {
      "cell_type": "code",
      "metadata": {
        "id": "aEeQr_yCwiqg",
        "colab_type": "code",
        "colab": {}
      },
      "source": [
        "\n",
        "#link = 'https://www.team-bhp.com/forum/official-new-car-reviews/209281-tata-harrier-official-review.html'\n",
        "  \n",
        "\n",
        "#path = '//*[@id=\"post_message_4588674\"]'\n",
        "\n",
        "\n",
        "link = 'https://www.team-bhp.com/forum/official-new-car-reviews/209281-tata-harrier-official-review.html'\n",
        "  \n",
        "\n",
        "path = '//*[contains(@id=\"post_message_\")]'\n",
        "  "
      ],
      "execution_count": 0,
      "outputs": []
    },
    {
      "cell_type": "code",
      "metadata": {
        "id": "auvYqHo3witE",
        "colab_type": "code",
        "colab": {
          "base_uri": "https://localhost:8080/",
          "height": 316
        },
        "outputId": "1c04742e-934d-44a5-ace4-62900b7b5f65"
      },
      "source": [
        "response = requests.get(link) \n",
        "byte_string = response.content \n",
        "  \n",
        "\n",
        "source_code = html.fromstring(byte_string) \n",
        "  \n",
        "\n",
        "tree = source_code.xpath(path) \n",
        "  "
      ],
      "execution_count": 10,
      "outputs": [
        {
          "output_type": "error",
          "ename": "XPathEvalError",
          "evalue": "ignored",
          "traceback": [
            "\u001b[0;31m---------------------------------------------------------------------------\u001b[0m",
            "\u001b[0;31mXPathEvalError\u001b[0m                            Traceback (most recent call last)",
            "\u001b[0;32m<ipython-input-10-a6a202fef358>\u001b[0m in \u001b[0;36m<module>\u001b[0;34m()\u001b[0m\n\u001b[1;32m      6\u001b[0m \u001b[0;34m\u001b[0m\u001b[0m\n\u001b[1;32m      7\u001b[0m \u001b[0;34m\u001b[0m\u001b[0m\n\u001b[0;32m----> 8\u001b[0;31m \u001b[0mtree\u001b[0m \u001b[0;34m=\u001b[0m \u001b[0msource_code\u001b[0m\u001b[0;34m.\u001b[0m\u001b[0mxpath\u001b[0m\u001b[0;34m(\u001b[0m\u001b[0mpath\u001b[0m\u001b[0;34m)\u001b[0m\u001b[0;34m\u001b[0m\u001b[0;34m\u001b[0m\u001b[0m\n\u001b[0m\u001b[1;32m      9\u001b[0m \u001b[0;34m\u001b[0m\u001b[0m\n",
            "\u001b[0;32msrc/lxml/etree.pyx\u001b[0m in \u001b[0;36mlxml.etree._Element.xpath\u001b[0;34m()\u001b[0m\n",
            "\u001b[0;32msrc/lxml/xpath.pxi\u001b[0m in \u001b[0;36mlxml.etree.XPathElementEvaluator.__call__\u001b[0;34m()\u001b[0m\n",
            "\u001b[0;32msrc/lxml/xpath.pxi\u001b[0m in \u001b[0;36mlxml.etree._XPathEvaluatorBase._handle_result\u001b[0;34m()\u001b[0m\n",
            "\u001b[0;31mXPathEvalError\u001b[0m: Invalid number of arguments"
          ]
        }
      ]
    },
    {
      "cell_type": "code",
      "metadata": {
        "id": "8eNt2Mo6xd2E",
        "colab_type": "code",
        "colab": {
          "base_uri": "https://localhost:8080/",
          "height": 1000
        },
        "outputId": "c7b33082-4f26-4654-a8b6-83fa41deb9bb"
      },
      "source": [
        "print(tree[0].text_content())"
      ],
      "execution_count": 7,
      "outputs": [
        {
          "output_type": "stream",
          "text": [
            "Exterior  \r\n",
            "When Tata Motors introduced the Safari in '98, it was the first Indian car company to build a contemporary SUV. No other Indian manufacturer had even come close to designing such a vehicle. The erstwhile 3-door Sierra too, was quite innovative back in the day, as was the Sumo. All of these cars sure have enjoyed a fan following. Surprisingly then, Tata completely changed its direction & focused 100% on hatchbacks & sedans, abandoning the UV segments. Tata practically handed over the MUV market to Mahindra on a silver platter. Ignoring SUVs wasn't a good idea either because SUVs & Crossovers have become the no.1 segment worldwide. And they offer amazing profit margins too. You could say that Tata Motors bet on the wrong horse. \r\n",
            "Saying that the Harrier is an important car would be an understatement. For one, Tata is on a roll after generally positive customer reviews of the Hexa, Tiago, Tigor & Nexon. Some fun products as well in the JTP twins - cars like these prove that Tata has a soul. In terms of product development capability, Tata has made giant strides and is a completely different animal today, compared to the lazy & boring company we saw in the late 2000s. Then, the 15-20 lakh segment offers the best of both worlds = big volumes + fat profit margins (a rare combination). Just ask the Hyundai Creta & (earlier), the XUV500. Among the body-on-frames, there is the outdated Scorpio which still does ~4,000 cars / month! Thousands of customers each month are willing to pay big bucks for SUVs they love. \r\n",
            "In 2014, Tata finally decided that it will build a couple of new SUVs with the help of its subsidiary, Jaguar Land Rover. Tata Motors used Land Rover's D8 platform - which underpins the Discovery Sport - to create the Optimal Modular Efficient Global Advanced (OMEGA) Architecture, a monocoque for its new SUV, the Harrier. The D8 platform is a good start as one million SUVs based on this architecture have been sold worldwide. Trivia: early test mules of the Harrier were tested with a Land Rover body! \r\n",
            "Featuring Tata's Impact 2.0 design language, the Harrier looks radically different from any Tata car built before. And it's deadly handsome! This has certainly managed to cause a lot of excitement around it. When the Harrier was displayed at the '18 Auto Expo as the H5X Concept, it was the center of attraction. The production version looks equally stunning. On our test drives, it turned heads like you wouldn't believe. We'd stopped for breakfast at an open restaurant and when we were driving away, every person on every table was staring at our orange car. The Harrier has P-R-E-S-E-N-C-E. \r\n",
            "Built with extensive usage of advanced high strength steel, the Harrier feels robust & solid (Compass is better though). There is barely any flex in the metal and the bonnet + doors have a good deal of weight to them. The paint job is very good as well (but surprisingly, not excellent for this price point). What is disappointing is the fit and finish. Panel gaps at various places aren't even. Let alone cars like the Hyundai Creta, the Harrier does not even match some other Tata vehicles in this respect. Get this, the Hexa & Nexon felt \"more sorted\" than the Harrier. There is absolutely no doubt that Tata has rushed into the Harrier's launch. Id much rather theyd have taken another 6 - 12 months and launched a completed car (if you are considering buying one, I recommend waiting for the 2020 or 2021 Harrier with all its rough edges ironed out).   \r\n",
            "Measuring 4,598 mm in length, 1,894 mm in width and 1,706 mm in height, the Harrier is longer & wider than all other 5-seater rivals...and the 7-seater Mahindra XUV500! Its wheelbase of 2,741 mm is longer than that of the XUV500 as well. Unfortunately, Tata's willpower to stick to a diet remains shaky. The vehicle's kerb weight of 1,675 kg makes it heavier than all other monocoque 5-seater rivals. \r\n",
            "Coming to safety, the Harrier is equipped with dual front airbags, ABS + EBD, rear parking sensors, seatbelt reminders for the front seats and speed sensitive auto-door locking as standard. The top variant gets 6 airbags, ESP, ISOFIX child seat mounts and a reversing camera. We would have liked TPMS and front parking sensors to be standard at this price point though. While the Harrier has not been crash tested by independent entities like the NCAP, the Land Rover Discovery Sport has received a 5-star safety rating in the Euro NCAP crash test. Besides, in 2018, the smaller Tata Nexon got a 5-star safety rating from the Global NCAP too. We expect no less from the Harrier & hear that Tata's management has pushed for the topmost NCAP rating for this car. \r\n",
            "Tata is offering a standard warranty of 2 years / unlimited km, which can be extended to 4 years / 130,000 km. We strongly recommend this warranty extension as brand-new Tata cars are known to suffer niggles. Heck, both our test Harriers had multiple problems! We're disappointed that the warranty cannot be extended to 5 years as that's pretty much the industry standard now (some manufacturers offer coverage for up to 7 years!). \r\n",
            "Priced between Rs. 12.70 - 16.27 lakhs (ex-showroom, Delhi), the Harrier's pricing is reasonable for whats on offer. The pricing further shows Tata's confidence in its product and how the brand is slowly and steadily evolving (from the doldrums it was in a decade ago). There are more people speaking positively about Tata's cars (although there are a lot who still wouldn't consider the brand at all). That said, we wish that Tata had done an \"XUV500\" with the pricing. The Mahindra was priced so mouth-wateringly well that it created a shock in the segment. Mahindra actually held a lottery for customer allocations! What Mahindra did is make the XUV500 appealing even to those who wouldn't have ever considered a 15-lakh rupee Mahindra otherwise. That won't happen much with the Harrier. Those who were open to the Tata brand or sitting on the fence will buy the Harrier. But the pricing has not given the brand skeptics any reason to convert (unlike the XUV500 which was the first Mahindra for a LOT of families). \r\n",
            "Easily the best-looking launch of 2019! Drop-dead gorgeous looks will be a big draw for the Harrier. We've said it before & will say it again = Pratap Bose & his team have TASTE. Harrier is the first Tata car to feature the Impact 2.0 design language. Car has a good stance & strong road presence. The DRLs and headlamp clusters are uniquely placed. While the DRLs are on top, the headlamps are lower down on the bumper!  \r\n",
            "Rear end is classy. LED tail-lamps appear to stick out from the sides. Exhaust pipe is superbly concealed & requires a second look to spot (it's on the left). The car overall has a \"Land Rover\" vibe to it:  \r\n",
            "Viewed from the side, the Harrier's design is very well balanced. Looks contemporary & beefy. Thick black cladding on the sides and the bumpers hides the visual bulk & gives the impression of much higher ground clearance. Use of chrome is restricted to the door handles and the ubiquitous garnish on top of the windows. Front and rear overhangs are rather short. The Harrier's 2,741 mm wheelbase is the same as that of the Discovery Sport:  \r\n",
            "One of the best angles to view the Harrier from. If Tata can make a van good looking (Hexa), you can imagine how they went all out with an SUV. GTO had taken the orange Harrier to a social outing and parked it in a sea of Mercedes, BMWs & Audis. Impressively, the Harrier didnt look out of place in that group (an XUV500 or Creta surely would). The Tata looked just as premium. Want more proof? Check this image shared by BHPian JS Kwt:  \r\n",
            "Flared wheel arches and a couple of creases on the sides gel well with the overall design, enhancing its muscular look:   \r\n",
            "Slim LED DRLs sit just below the bonnet. Notice the stepped design:   \r\n",
            "DRLs are bright and prominent, even during the day. They also serve as pilot lamps and dim a little when the headlights come on. The Harrier which we drove in December had DRLs with a bluish tinge. The cars we got in Bombay had proper white LEDs (which means these DRLs are of better quality):  \r\n",
            "They double up as turn-indicators!  \r\n",
            "Headlamp clusters consist of Xenon HID projectors for the low beam and regular halogen units for the high beam. Funnily, the low beam is located on the inner side rather than the outer (where it usually is). We wish the headlamps used some \"blackened\" effect / highlights as there is way too much silver / chrome in them. Also, many BHPians are rightfully concerned that even a small frontal impact / bikers will damage the headlamps due to their unconventional placement. XM, XT and XZ variants get a follow-me-home function in which the DRLs and projectors come on when activated by a key fob button. Round foglamps are placed just below the headlamps. They are adequately bright and serve as cornering lamps as well:    \r\n",
            "Headlight projectors sport sweet markings - a lion is engraved on the sides of both:   \r\n",
            "A look at all the lights in action:   \r\n",
            "Wide, glossy black grille has chunky trapezoidal blocks. One can see the condenser clearly through the big openings:  \r\n",
            "A glance at how the detailing and badge stick out of the grille:  \r\n",
            "Dual-tone bumper incorporates a split air dam with vertical slats at the top and a honeycomb mesh grille at the bottom. Silver plastic skid plate adds to the SUV look, but it is obviously a fake. Like the Yaris & XUV300, we wish this car also got front parking sensors (due to its size & headlamp placement):  \r\n",
            "To access the towing point, the mid section of the skid plate needs to be unscrewed - tedious if you need to be pulled out from a sticky situation!! Don't miss the wind deflector:  \r\n",
            "Go further in and you'll see there is a fair amount of underbody protection provided. 205 mm of ground clearance (unladen) is more than enough:  \r\n",
            "Long bonnet features a wide and largely flat central dome. Notice how the bonnet rises towards the outer sides:   \r\n",
            "The Harrier is equipped with automatic rain-sensing wipers. The sensor is located in the center of the windshield:   \r\n",
            "Wiper spindles are tucked away under the bonnet...   \r\n",
            "...as are the washers. View the large size image and notice how crude they look:  \r\n",
            "Both windshield washers squirt out effective sprays (rather than jets) of water. Big wipers offer a good sweep:  \r\n",
            "Dual-tone body colour + black ORVMs with integrated blinkers. Notice how the black portion has a step below the indicator:  \r\n",
            "ORVMs house useful white puddle lamps underneath. They come on whenever you unlock the car:  \r\n",
            "We get the feeling that Tata could have taken another 6 - 12 months to iron out the inconsistencies. Shut lines are not consistent at various places over the car. For instance, even around the doors, panel gaps are tight at some places...    \r\n",
            "...and wider in others. What's more, there were differences on the same body panels between our orange & silver media cars. That being said, the Feb manufactured cars we got in Bombay were better put together than the one we drove at the December media drive:  \r\n",
            "Gaps are at their widest around the bonnet:  \r\n",
            "Door handles get classy chrome inserts on their sides. Driver + front passenger doors get request sensors. With the key fob in your pocket, simply touch the request sensor to lock / unlock the car:  \r\n",
            "Keyhole can be accessed by removing the rear plastic piece of the driver's door handle. To remove the piece, insert the skeleton key into this hole:   \r\n",
            "Roof slopes down towards the rear, while the window line rises. Chrome strip runs above the windows. B, C & D-pillars are blacked out:  \r\n",
            "Harrier-badged chrome insert here is the only part of the design we don't like. This chrome panel looks very after-market'ish. Rear quarter glass area is too small to make any difference:  \r\n",
            "Another look at the chrome piece:  \r\n",
            "Black plastic cladding runs along the wheel arches:   \r\n",
            "Subtle character line on the doors. Notice how the car's running board isn't visible from the side - it is covered up by the doors:  \r\n",
            "XT and XZ variants get 17\" alloy wheels with 235/65 section Good Year Wrangler tyres. While some people said that the wheels look small, we think they are perfect. Plus, for SUVs on Indian roads, we'd any day pick smaller wheels + larger tyre profiles than the other way around. The alloy design is rather boring though and doesn't suit the sexy body at all. You could either get nicer rims from the after-market or, a cheaper solution, simply blacken parts of it (check BHPian Kalleo4's post here). XE and XM variants get 16\" steel rims with 235/70 section tyres:   \r\n",
            "Considering that the Hexa gets disc brakes at the rear, we expected the same in the Harrier. Sadly, that's not the case (although we have no complaints with the car's braking ability):  \r\n",
            "Roof is ribbed for superior rigidity. In a car with premium aspirations, a sunroof is conspicuous by its absence & will be missed by customers buying the top variant (Creta & XUV500 offer one). Roof rails aren't provided either; we quite like the design without them:   \r\n",
            "Shiny black sharkfin antenna sits towards the end of the roof section:  \r\n",
            "Tailgate gets a neatly integrated spoiler, which houses the LED HMSL:  \r\n",
            "An area where the fit is not perfect. The gap between the piano black plastic piece and the rear quarter glass is wider than that between the tailgate and body. Is out of alignment with the one on top & bottom too:  \r\n",
            "XM, XT and XZ variants get a rear washer/wiper. Washer is prominent and gets a thick black border. We feel it could have been better integrated (see how the Creta has a camoflaged washer here):  \r\n",
            "Split, slim & sexy tail-lamp clusters have glossy black outlines, a long LED strip for the pilot light and a short, slim stop lamp. The reversing lights sit on the tailgate section:   \r\n",
            "With all the lights in action. Looks fantastic at night. That said, BHPian S.MJet posted (and we concur) that the brake lights look rather small on the road - click here for an image:  \r\n",
            "Strangely, the number plate does not get a recessed area on the tailgate. Rear windshield is too small in size. Glossy black strip runs between the two tail-lamp clusters (we love this & hate chrome strips). Use of chrome has been restricted to the \"T\" badge and prominent \"Harrier\" lettering low on the tailgate. H-A-R-R-I-E-R badging is similar to how we see it on Land Rovers & Range Rovers. Looks damn smart. Don't miss the black insert at the base of the tailgate which helps it merge with the rear bumper. Clean rear has no variant or engine badges:  \r\n",
            "Rear windshield is short in height, which means only a short wiper can be accommodated. It leaves a large portion of the windshield unwiped. Short windshield also results in poor rearward visibility for the driver. A clear example of form over function:   \r\n",
            "Another example of inconsistent fit & finish. The gap between the left tail-lamp and tailgate is narrower than that of the right tail-lamp!!    \r\n",
            "Lower edge of the glossy black strip should have been sitting flush with the tail-lamps:  \r\n",
            "Small electromagnetic boot release sits below the \"T\" badge. It can take some time to locate it. Reverse camera (available in XT and XZ variants) is placed to the left. It's prominent when viewing the car from the rear; Tata should have concealed it better:  \r\n",
            "Four parking sensors are provided in the XM, XT and XZ variants. Along with the reversing camera, they prove vital while backing up the Harrier as the rearward visibility is poor:  \r\n",
            "Like we've seen in many premium cars (Mercedes in particular), the Harrier gets fake exhaust vents (in silver) on both sides. That's for style and we sure aren't complaining. The actual tail-pipe is below. Note the slim reflectors on top of the faux exhaust vents:  \r\n",
            "Small foglamps are located on the body-coloured area of the bumper (both sides). This part feels flimsy and when you press it, the light and bumper get separated!  \r\n",
            "Semi-independent twist blade suspension with a panhard rod and coil springs at the rear. Spare is a 16\" steel wheel with a 235/70 section tyre that is carried below the body:   \r\n",
            "Side by side with Mahindra's success story. The Harrier is clearly the more futuristic and muscular looking. That said, the XUV500 is still a handsome car:   \r\n",
            "Both our homegrown manufacturers have come a long way indeed . During our test-drive, a learned gent walked up and said \"can you believe the kind of cars made in India today?\". After experiencing the Harrier & XUV300 recently, we have to agree with him:  \r\n",
            "The Harrier has fewer seats than the XUV500, but it is actually longer in length than the Mahindra: \n"
          ],
          "name": "stdout"
        }
      ]
    }
  ]
}